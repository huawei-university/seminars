{
 "cells": [
  {
   "cell_type": "markdown",
   "metadata": {},
   "source": [
    "# Statistical Machine Translation"
   ]
  },
  {
   "cell_type": "markdown",
   "metadata": {},
   "source": [
    "If you have seen the SMT lecture, you already know what the task of machine translation is and what word alignment is. With the help of this notebook, let's try to figure it all out in practice."
   ]
  },
  {
   "cell_type": "markdown",
   "metadata": {},
   "source": [
    "# IBM MODEL 1"
   ]
  },
  {
   "cell_type": "markdown",
   "metadata": {},
   "source": [
    "1.We need to calculate $$p(f,a|e,m)=\\frac{p(f,a|e,m)}{\\sum_{a \\in A} p(f,a|e,m)}$$\n",
    "* English pairs consist of: $l=2$ words.  \n",
    "* German pairs: $m=2$  \n",
    "* Alignment $a$ is {${a_{1},..., a_{m}}$}, where each $a_{j} \\in {0,...,l}$ \n",
    "<F>\n",
    "\n",
    "2.There are $(l+1)^m$ possible alignments. And in IBM1 all allignments $a$ are equally likely:\n",
    "$$p(a|e,m) = \\frac{1}{(l+1)^m}$$ \n",
    "<F>\n",
    "3.To generate a German string $f$ from an English string $e$:  \n",
    "* Step 1: Pick an alignment $a$ with probability: $\\frac{1}{(l+1)^m}$  \n",
    "* Step 2: Pick the German words with probs: $$p(f|a,e,m)={\\prod_{j=1}^{m} t(f_{j}|e_{a_{j}})}$$\n",
    " \n",
    "4.The final result:  $$p(f,a|e,m)=p(a|e,m)\\times{p(f|a,e,m)}=\\frac{1}{(l+1)^m}{\\prod_{j=1}^{m} t(f_{j}|e_{a_{j}})}$$\n"
   ]
  },
  {
   "cell_type": "code",
   "execution_count": null,
   "metadata": {},
   "outputs": [],
   "source": [
    "#Import function for training model\n",
    "\n",
    "from smt.ibmmodel.ibmmodel1 import train"
   ]
  },
  {
   "cell_type": "code",
   "execution_count": null,
   "metadata": {},
   "outputs": [],
   "source": [
    "#our German and English pairs\n",
    "\n",
    "sent_pairs = [(\"the house\", \"das Haus\"),\n",
    "              (\"the book\", \"das Buch\"),\n",
    "              (\"a book\", \"ein Buch\"),\n",
    "              ]"
   ]
  },
  {
   "cell_type": "code",
   "execution_count": null,
   "metadata": {
    "scrolled": true
   },
   "outputs": [],
   "source": [
    "# Results of train\n",
    "\n",
    "train(sent_pairs, loop_count=300)"
   ]
  },
  {
   "cell_type": "markdown",
   "metadata": {},
   "source": [
    "# IBM MODEL 2"
   ]
  },
  {
   "cell_type": "markdown",
   "metadata": {},
   "source": [
    "1.The main difference between Model 1 and Model 2 is that we introduce alignment (distortion parameters): \n",
    "$q(i|j,l,m)=$'probability that $j'$th German word is connected with $i'$th Enhlish word, given sentence lengths of $e$ and $f$ are $l$ and $m$ respectively'.  \n",
    "<f>  \n",
    "2.Let's define $$p(a|e,m)={\\prod_{j=1}^{m} q(a_{j}|j,l,m)}$$, where $a=${$a_{1},...,a_{m}$}\n",
    "<f>  \n",
    "3.Gives $$p(f,a|e,m)={\\prod_{j=1}^{m} q(a_{j}|j,l,m)t(f_{j}|e_{a_{j}}}$$\n",
    "<f>  \n",
    "4.To generate a German string $f$ from an English string $e$: \n",
    "* Step 1: Pick an alignment $a$ with probability: $$\\prod_{j=1}^{m} q(a_{j}|j,l,m)$$ \n",
    "* Step 2: Pick the German words with probs: $$p(f|a,e,m)={\\prod_{j=1}^{m} t(f_{j}|e_{a_{j}})}$$\n",
    " \n",
    "4.The final result:  $$p(f,a|e,m)=p(a|e,m)\\times{p(f|a,e,m)}={\\prod_{j=1}^{m} q(a_{j}|j,l,m)t(f_{j}|e_{a_{j}})}$$\n",
    "    \n"
   ]
  },
  {
   "cell_type": "code",
   "execution_count": null,
   "metadata": {
    "scrolled": true
   },
   "outputs": [],
   "source": [
    "# Import our train function \n",
    "# Show_matrix - function for see how allignments work\n",
    "\n",
    "from smt.ibmmodel.ibmmodel2 import train as ibm2_train\n",
    "from smt.ibmmodel.ibmmodel2 import show_matrix\n",
    "from smt.utils.utility import matrix"
   ]
  },
  {
   "cell_type": "code",
   "execution_count": null,
   "metadata": {
    "scrolled": false
   },
   "outputs": [],
   "source": [
    "#Results of our train\n",
    "\n",
    "sent_pairs = [(\"the house\", \"das Haus\"),\n",
    "              (\"the book\", \"das Buch\"),\n",
    "              (\"a book\", \"ein Buch\"),\n",
    "              ]\n",
    "t, a = ibm2_train(sent_pairs, loop_count=1)"
   ]
  },
  {
   "cell_type": "code",
   "execution_count": null,
   "metadata": {},
   "outputs": [],
   "source": [
    "# help function \n",
    "def print_lines(line):\n",
    "    lines = line.split(\"\\n\")\n",
    "    for l in lines:\n",
    "        print(l)"
   ]
  },
  {
   "cell_type": "markdown",
   "metadata": {},
   "source": [
    "## IBM model 2 results"
   ]
  },
  {
   "cell_type": "code",
   "execution_count": null,
   "metadata": {},
   "outputs": [],
   "source": [
    "es, fs = \"the book\".split(), \"das Buch\".split()"
   ]
  },
  {
   "cell_type": "code",
   "execution_count": null,
   "metadata": {
    "scrolled": true
   },
   "outputs": [],
   "source": [
    "print_lines(show_matrix(es, fs, t, a))"
   ]
  },
  {
   "cell_type": "markdown",
   "metadata": {},
   "source": [
    "## Now on Chinese! ##"
   ]
  },
  {
   "cell_type": "code",
   "execution_count": null,
   "metadata": {},
   "outputs": [],
   "source": [
    "sentences = [(\"僕 は 男 です\", \"I am a man\"),\n",
    "                     (\"私 は 女 です\", \"I am a girl\"),\n",
    "                     (\"私 は 先生 です\", \"I am a teacher\"),\n",
    "                     (\"彼女 は 先生 です\", \"She is a teacher\"),\n",
    "                     (\"彼 は 先生 です\", \"He is a teacher\"),\n",
    "                     ]"
   ]
  },
  {
   "cell_type": "code",
   "execution_count": null,
   "metadata": {
    "scrolled": true
   },
   "outputs": [],
   "source": [
    "t, a = ibm2_train(sentences, loop_count=10)"
   ]
  },
  {
   "cell_type": "code",
   "execution_count": null,
   "metadata": {},
   "outputs": [],
   "source": [
    "es = \"私 は 先生 です\".split()\n",
    "fs = \"I am a teacher\".split()"
   ]
  },
  {
   "cell_type": "code",
   "execution_count": null,
   "metadata": {},
   "outputs": [],
   "source": [
    "print_lines(show_matrix(es, fs, t, a))"
   ]
  },
  {
   "cell_type": "markdown",
   "metadata": {},
   "source": [
    "## Alignments and symmetrization##"
   ]
  },
  {
   "cell_type": "markdown",
   "metadata": {},
   "source": [
    "Let's see how alignment and symmetrization work!"
   ]
  },
  {
   "cell_type": "code",
   "execution_count": null,
   "metadata": {},
   "outputs": [],
   "source": [
    "from smt.phrase.word_alignment import _alignment"
   ]
  },
  {
   "cell_type": "code",
   "execution_count": null,
   "metadata": {},
   "outputs": [],
   "source": [
    "es = \"michael assumes that he will stay in the house\".split()\n",
    "fs = \"michael geht davon aus , dass er im haus bleibt\".split()\n",
    "e2f = [(1, 1), (2, 2), (2, 3), (2, 4), (3, 6),\n",
    "       (4, 7), (7, 8), (9, 9), (6, 10)]\n",
    "f2e = [(1, 1), (2, 2), (3, 6), (4, 7), (7, 8),\n",
    "       (8, 8), (9, 9), (5, 10), (6, 10)]"
   ]
  },
  {
   "cell_type": "code",
   "execution_count": null,
   "metadata": {
    "scrolled": true
   },
   "outputs": [],
   "source": [
    "print(matrix(len(es), len(fs), f2e, es, fs))"
   ]
  },
  {
   "cell_type": "code",
   "execution_count": null,
   "metadata": {
    "scrolled": false
   },
   "outputs": [],
   "source": [
    "ali = _alignment(es, fs, e2f, f2e)\n",
    "print(matrix(len(es), len(fs), ali, es, fs))"
   ]
  },
  {
   "cell_type": "code",
   "execution_count": null,
   "metadata": {},
   "outputs": [],
   "source": [
    "from smt.utils.utility import mkcorpus\n",
    "from smt.phrase.word_alignment import symmetrization\n",
    "from pprint import pprint"
   ]
  },
  {
   "cell_type": "code",
   "execution_count": null,
   "metadata": {},
   "outputs": [],
   "source": [
    "corpus = mkcorpus(sentences)\n",
    "es = \"私 は 先生 です\".split()\n",
    "fs = \"I am a teacher\".split()  "
   ]
  },
  {
   "cell_type": "code",
   "execution_count": null,
   "metadata": {},
   "outputs": [],
   "source": [
    "syn = symmetrization(es, fs, corpus)\n",
    "pprint(syn)\n",
    "print(matrix(len(es), len(fs), syn, es, fs))"
   ]
  }
 ],
 "metadata": {
  "kernelspec": {
   "display_name": "Python 3",
   "language": "python",
   "name": "python3"
  },
  "language_info": {
   "codemirror_mode": {
    "name": "ipython",
    "version": 3
   },
   "file_extension": ".py",
   "mimetype": "text/x-python",
   "name": "python",
   "nbconvert_exporter": "python",
   "pygments_lexer": "ipython3",
   "version": "3.8.8"
  }
 },
 "nbformat": 4,
 "nbformat_minor": 4
}
