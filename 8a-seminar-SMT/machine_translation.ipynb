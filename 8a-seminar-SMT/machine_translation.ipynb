{
 "cells": [
  {
   "cell_type": "markdown",
   "metadata": {},
   "source": [
    "# Statistical Machine Translation"
   ]
  },
  {
   "cell_type": "markdown",
   "metadata": {},
   "source": [
    "If you have seen the SMT lecture, you already know what the task of machine translation is and what word alignment is. With the help of this notebook, let's try to figure it all out in practice."
   ]
  },
  {
   "cell_type": "markdown",
   "metadata": {},
   "source": [
    "# IBM MODEL 1"
   ]
  },
  {
   "cell_type": "markdown",
   "metadata": {},
   "source": [
    "1.We need to calculate $$p(f,a|e,m)=\\frac{p(f,a|e,m)}{\\sum_{a \\in A} p(f,a|e,m)}$$\n",
    "* English pairs consist of: $l=2$ words.  \n",
    "* German pairs: $m=2$  \n",
    "* Alignment $a$ is {${a_{1},..., a_{m}}$}, where each $a_{j} \\in {0,...,l}$ \n",
    "<F>\n",
    "\n",
    "2.There are $(l+1)^m$ possible alignments. And in IBM1 all allignments $a$ are equally likely:\n",
    "$$p(a|e,m) = \\frac{1}{(l+1)^m}$$ \n",
    "<F>\n",
    "3.To generate a German string $f$ from an English string $e$:  \n",
    "* Step 1: Pick an alignment $a$ with probability: $\\frac{1}{(l+1)^m}$  \n",
    "* Step 2: Pick the German words with probs: $$p(f|a,e,m)={\\prod_{j=1}^{m} t(f_{j}|e_{a_{j}})}$$\n",
    " \n",
    "4.The final result:  $$p(f,a|e,m)=p(a|e,m)\\times{p(f|a,e,m)}=\\frac{1}{(l+1)^m}{\\prod_{j=1}^{m} t(f_{j}|e_{a_{j}})}$$\n"
   ]
  },
  {
   "cell_type": "code",
   "execution_count": 49,
   "metadata": {},
   "outputs": [],
   "source": [
    "#Import function for training model\n",
    "\n",
    "from smt.ibmmodel.ibmmodel1 import train"
   ]
  },
  {
   "cell_type": "code",
   "execution_count": 91,
   "metadata": {},
   "outputs": [],
   "source": [
    "#our German and English pairs\n",
    "\n",
    "sent_pairs = [(\"the house\", \"das Haus\"),\n",
    "              (\"the book\", \"das Buch\"),\n",
    "              (\"a book\", \"ein Buch\"),\n",
    "              ]"
   ]
  },
  {
   "cell_type": "code",
   "execution_count": 59,
   "metadata": {
    "scrolled": true
   },
   "outputs": [
    {
     "data": {
      "text/plain": [
       "defaultdict(<function smt.ibmmodel.ibmmodel1._constant_factory.<locals>.<lambda>()>,\n",
       "            {('the', 'das'): Decimal('1'),\n",
       "             ('the', 'Haus'): Decimal('0.001690039679655961751022473679'),\n",
       "             ('house', 'das'): Decimal('4.609745521815247181063352303E-89'),\n",
       "             ('house', 'Haus'): Decimal('0.9983099603203440382489775265'),\n",
       "             ('the', 'Buch'): Decimal('2.815024286894250589491379615E-90'),\n",
       "             ('book', 'das'): Decimal('2.815024286894250589491379615E-90'),\n",
       "             ('book', 'Buch'): Decimal('1'),\n",
       "             ('a', 'ein'): Decimal('0.9983099603203440382489775265'),\n",
       "             ('a', 'Buch'): Decimal('4.609745521815247181063352311E-89'),\n",
       "             ('book', 'ein'): Decimal('0.001690039679655961751022473679')})"
      ]
     },
     "execution_count": 59,
     "metadata": {},
     "output_type": "execute_result"
    }
   ],
   "source": [
    "# Results of train\n",
    "\n",
    "train(sent_pairs, loop_count=300)"
   ]
  },
  {
   "cell_type": "markdown",
   "metadata": {},
   "source": [
    "# IBM MODEL 2"
   ]
  },
  {
   "cell_type": "markdown",
   "metadata": {},
   "source": [
    "1.The main difference between Model 1 and Model 2 is that we introduce alignment (distortion parameters): \n",
    "$q(i|j,l,m)=$'probability that $j'$th German word is connected with $i'$th Enhlish word, given sentence lengths of $e$ and $f$ are $l$ and $m$ respectively'.  \n",
    "<f>  \n",
    "2.Let's define $$p(a|e,m)={\\prod_{j=1}^{m} q(a_{j}|j,l,m)}$$, where $a=${$a_{1},...,a_{m}$}\n",
    "<f>  \n",
    "3.Gives $$p(f,a|e,m)={\\prod_{j=1}^{m} q(a_{j}|j,l,m)t(f_{j}|e_{a_{j}}}$$\n",
    "<f>  \n",
    "4.To generate a German string $f$ from an English string $e$: \n",
    "* Step 1: Pick an alignment $a$ with probability: $$\\prod_{j=1}^{m} q(a_{j}|j,l,m)$$ \n",
    "* Step 2: Pick the German words with probs: $$p(f|a,e,m)={\\prod_{j=1}^{m} t(f_{j}|e_{a_{j}})}$$\n",
    " \n",
    "4.The final result:  $$p(f,a|e,m)=p(a|e,m)\\times{p(f|a,e,m)}={\\prod_{j=1}^{m} q(a_{j}|j,l,m)t(f_{j}|e_{a_{j}})}$$\n",
    "    \n"
   ]
  },
  {
   "cell_type": "code",
   "execution_count": 60,
   "metadata": {
    "scrolled": true
   },
   "outputs": [],
   "source": [
    "# Import our train function \n",
    "# Show_matrix - function for see how allignments work\n",
    "\n",
    "from smt.ibmmodel.ibmmodel2 import train as ibm2_train\n",
    "from smt.ibmmodel.ibmmodel2 import show_matrix\n",
    "from smt.utils.utility import matrix"
   ]
  },
  {
   "cell_type": "code",
   "execution_count": 58,
   "metadata": {
    "scrolled": false
   },
   "outputs": [
    {
     "name": "stdout",
     "output_type": "stream",
     "text": [
      "the das:    0.6363636363636364\n",
      "the Haus:   0.42857142857142855\n",
      "house das:  0.18181818181818182\n",
      "house Haus: 0.5714285714285714\n",
      "the Buch:   0.18181818181818182\n",
      "book das:   0.18181818181818182\n",
      "book Buch:  0.6363636363636364\n",
      "a ein:      0.5714285714285714\n",
      "a Buch:     0.18181818181818182\n",
      "book ein:   0.42857142857142855\n",
      "1 1 2 2\t0.6111111111111112\n",
      "2 1 2 2\t0.3888888888888889\n",
      "1 2 2 2\t0.3888888888888889\n",
      "2 2 2 2\t0.6111111111111112\n"
     ]
    }
   ],
   "source": [
    "#Results of our train\n",
    "\n",
    "sent_pairs = [(\"the house\", \"das Haus\"),\n",
    "              (\"the book\", \"das Buch\"),\n",
    "              (\"a book\", \"ein Buch\"),\n",
    "              ]\n",
    "t, a = ibm2_train(sent_pairs, loop_count=1)"
   ]
  },
  {
   "cell_type": "code",
   "execution_count": 48,
   "metadata": {},
   "outputs": [],
   "source": [
    "# help function \n",
    "def print_lines(line):\n",
    "    lines = line.split(\"\\n\")\n",
    "    for l in lines:\n",
    "        print(l)"
   ]
  },
  {
   "cell_type": "markdown",
   "metadata": {},
   "source": [
    "## IBM model 2 results"
   ]
  },
  {
   "cell_type": "code",
   "execution_count": 26,
   "metadata": {},
   "outputs": [],
   "source": [
    "es, fs = \"the book\".split(), \"das Buch\".split()"
   ]
  },
  {
   "cell_type": "code",
   "execution_count": 27,
   "metadata": {
    "scrolled": true
   },
   "outputs": [
    {
     "name": "stdout",
     "output_type": "stream",
     "text": [
      "     das Buch\n",
      "the  |x| |\n",
      "book | |x|\n",
      "\n"
     ]
    }
   ],
   "source": [
    "print_lines(show_matrix(es, fs, t, a))"
   ]
  },
  {
   "cell_type": "markdown",
   "metadata": {},
   "source": [
    "## Now on Chinese! ##"
   ]
  },
  {
   "cell_type": "code",
   "execution_count": 63,
   "metadata": {},
   "outputs": [],
   "source": [
    "sentences = [(\"僕 は 男 です\", \"I am a man\"),\n",
    "                     (\"私 は 女 です\", \"I am a girl\"),\n",
    "                     (\"私 は 先生 です\", \"I am a teacher\"),\n",
    "                     (\"彼女 は 先生 です\", \"She is a teacher\"),\n",
    "                     (\"彼 は 先生 です\", \"He is a teacher\"),\n",
    "                     ]"
   ]
  },
  {
   "cell_type": "code",
   "execution_count": 64,
   "metadata": {
    "scrolled": true
   },
   "outputs": [
    {
     "name": "stdout",
     "output_type": "stream",
     "text": [
      "僕 I:        0.33333333333333326\n",
      "僕 am:       2.7953990516595328e-182\n",
      "僕 a:        0.0\n",
      "僕 man:      4.2427149655047526e-16\n",
      "は I:        2.538173158018456e-144\n",
      "は am:       0.5\n",
      "は a:        0.5\n",
      "は man:      0.0\n",
      "男 I:        0.0\n",
      "男 am:       0.0\n",
      "男 a:        0.0\n",
      "男 man:      0.9999999999999996\n",
      "です I:       2.538173158018456e-144\n",
      "です am:      0.5\n",
      "です a:       0.5\n",
      "です man:     0.0\n",
      "私 I:        0.6666666666666667\n",
      "私 am:       5.5907981033190676e-182\n",
      "私 a:        0.0\n",
      "私 girl:     6.236730531464904e-20\n",
      "は girl:     0.0\n",
      "女 I:        0.0\n",
      "女 am:       0.0\n",
      "女 a:        0.0\n",
      "女 girl:     1.0\n",
      "です girl:    0.0\n",
      "私 teacher:  3.729343612242216e-27\n",
      "は teacher:  0.0\n",
      "先生 I:       0.0\n",
      "先生 am:      0.0\n",
      "先生 a:       0.0\n",
      "先生 teacher: 1.0\n",
      "です teacher: 0.0\n",
      "彼女 She:     1.0\n",
      "彼女 is:      2.032497523355089e-186\n",
      "彼女 a:       0.0\n",
      "彼女 teacher: 3.524703786008006e-29\n",
      "は She:      9.987490445724654e-146\n",
      "は is:       0.5\n",
      "先生 She:     0.0\n",
      "先生 is:      0.0\n",
      "です She:     9.987490445724654e-146\n",
      "です is:      0.5\n",
      "彼 He:       1.0\n",
      "彼 is:       2.032497523355089e-186\n",
      "彼 a:        0.0\n",
      "彼 teacher:  3.524703786008006e-29\n",
      "は He:       9.987490445724654e-146\n",
      "先生 He:      0.0\n",
      "です He:      9.987490445724654e-146\n",
      "1 1 4 4\t0.9999999999999999\n",
      "2 1 4 4\t2.726758676922308e-182\n",
      "3 1 4 4\t0.0\n",
      "4 1 4 4\t8.486677277343791e-17\n",
      "1 2 4 4\t1.562853856593972e-144\n",
      "2 2 4 4\t0.2709482532495859\n",
      "3 2 4 4\t0.7290517467504142\n",
      "4 2 4 4\t0.0\n",
      "1 3 4 4\t0.0\n",
      "2 3 4 4\t0.0\n",
      "3 3 4 4\t0.0\n",
      "4 3 4 4\t1.0\n",
      "1 4 4 4\t1.562853856593972e-144\n",
      "2 4 4 4\t0.2709482532495859\n",
      "3 4 4 4\t0.7290517467504142\n",
      "4 4 4 4\t0.0\n"
     ]
    }
   ],
   "source": [
    "t, a = ibm2_train(sentences, loop_count=10)"
   ]
  },
  {
   "cell_type": "code",
   "execution_count": 65,
   "metadata": {},
   "outputs": [],
   "source": [
    "es = \"私 は 先生 です\".split()\n",
    "fs = \"I am a teacher\".split()"
   ]
  },
  {
   "cell_type": "code",
   "execution_count": 66,
   "metadata": {},
   "outputs": [
    {
     "name": "stdout",
     "output_type": "stream",
     "text": [
      "     I am a teacher\n",
      "私    |x| | | |\n",
      "は    | | |x| |\n",
      "先生   | | | |x|\n",
      "です   | | |x| |\n",
      "\n"
     ]
    }
   ],
   "source": [
    "print_lines(show_matrix(es, fs, t, a))"
   ]
  },
  {
   "cell_type": "markdown",
   "metadata": {},
   "source": [
    "## Alignments and symmetrization##"
   ]
  },
  {
   "cell_type": "markdown",
   "metadata": {},
   "source": [
    "Let's see how alignment and symmetrization work!"
   ]
  },
  {
   "cell_type": "code",
   "execution_count": 73,
   "metadata": {},
   "outputs": [],
   "source": [
    "from smt.phrase.word_alignment import _alignment"
   ]
  },
  {
   "cell_type": "code",
   "execution_count": 74,
   "metadata": {},
   "outputs": [],
   "source": [
    "es = \"michael assumes that he will stay in the house\".split()\n",
    "fs = \"michael geht davon aus , dass er im haus bleibt\".split()\n",
    "e2f = [(1, 1), (2, 2), (2, 3), (2, 4), (3, 6),\n",
    "       (4, 7), (7, 8), (9, 9), (6, 10)]\n",
    "f2e = [(1, 1), (2, 2), (3, 6), (4, 7), (7, 8),\n",
    "       (8, 8), (9, 9), (5, 10), (6, 10)]"
   ]
  },
  {
   "cell_type": "code",
   "execution_count": 75,
   "metadata": {
    "scrolled": true
   },
   "outputs": [
    {
     "name": "stdout",
     "output_type": "stream",
     "text": [
      "     michael geht davon aus , dass er im haus bleibt\n",
      "mich |x| | | | | | | | | |\n",
      "assu | |x| | | | | | | | |\n",
      "that | | | | | |x| | | | |\n",
      "he   | | | | | | |x| | | |\n",
      "will | | | | | | | | | |x|\n",
      "stay | | | | | | | | | |x|\n",
      "in   | | | | | | | |x| | |\n",
      "the  | | | | | | | |x| | |\n",
      "hous | | | | | | | | |x| |\n",
      "\n"
     ]
    }
   ],
   "source": [
    "print(matrix(len(es), len(fs), f2e, es, fs))"
   ]
  },
  {
   "cell_type": "code",
   "execution_count": 90,
   "metadata": {
    "scrolled": false
   },
   "outputs": [
    {
     "name": "stdout",
     "output_type": "stream",
     "text": [
      "     michael geht davon aus , dass er im haus bleibt\n",
      "mich |x| | | | | | | | | |\n",
      "assu | |x|x|x| | | | | | |\n",
      "that | | | | | |x| | | | |\n",
      "he   | | | | | | |x| | | |\n",
      "will | | | | | | | | | |x|\n",
      "stay | | | | | | | | | |x|\n",
      "in   | | | | | | | |x| | |\n",
      "the  | | | | | | | |x| | |\n",
      "hous | | | | | | | | |x| |\n",
      "\n"
     ]
    }
   ],
   "source": [
    "ali = _alignment(es, fs, e2f, f2e)\n",
    "print(matrix(len(es), len(fs), ali, es, fs))"
   ]
  },
  {
   "cell_type": "code",
   "execution_count": 76,
   "metadata": {},
   "outputs": [],
   "source": [
    "from smt.utils.utility import mkcorpus\n",
    "from smt.phrase.word_alignment import symmetrization\n",
    "from pprint import pprint"
   ]
  },
  {
   "cell_type": "code",
   "execution_count": 38,
   "metadata": {},
   "outputs": [],
   "source": [
    "corpus = mkcorpus(sentences)\n",
    "es = \"私 は 先生 です\".split()\n",
    "fs = \"I am a teacher\".split()  "
   ]
  },
  {
   "cell_type": "code",
   "execution_count": 69,
   "metadata": {},
   "outputs": [
    {
     "name": "stdout",
     "output_type": "stream",
     "text": [
      "僕 I:        0.33333333333333326\n",
      "僕 am:       2.7953990516595328e-182\n",
      "僕 a:        0.0\n",
      "僕 man:      4.2427149655047526e-16\n",
      "は I:        2.538173158018456e-144\n",
      "は am:       0.5\n",
      "は a:        0.5\n",
      "は man:      0.0\n",
      "男 I:        0.0\n",
      "男 am:       0.0\n",
      "男 a:        0.0\n",
      "男 man:      0.9999999999999996\n",
      "です I:       2.538173158018456e-144\n",
      "です am:      0.5\n",
      "です a:       0.5\n",
      "です man:     0.0\n",
      "私 I:        0.6666666666666667\n",
      "私 am:       5.5907981033190676e-182\n",
      "私 a:        0.0\n",
      "私 girl:     6.236730531464904e-20\n",
      "は girl:     0.0\n",
      "女 I:        0.0\n",
      "女 am:       0.0\n",
      "女 a:        0.0\n",
      "女 girl:     1.0\n",
      "です girl:    0.0\n",
      "私 teacher:  3.729343612242216e-27\n",
      "は teacher:  0.0\n",
      "先生 I:       0.0\n",
      "先生 am:      0.0\n",
      "先生 a:       0.0\n",
      "先生 teacher: 1.0\n",
      "です teacher: 0.0\n",
      "彼女 She:     1.0\n",
      "彼女 is:      2.032497523355089e-186\n",
      "彼女 a:       0.0\n",
      "彼女 teacher: 3.524703786008006e-29\n",
      "は She:      9.987490445724654e-146\n",
      "は is:       0.5\n",
      "先生 She:     0.0\n",
      "先生 is:      0.0\n",
      "です She:     9.987490445724654e-146\n",
      "です is:      0.5\n",
      "彼 He:       1.0\n",
      "彼 is:       2.032497523355089e-186\n",
      "彼 a:        0.0\n",
      "彼 teacher:  3.524703786008006e-29\n",
      "は He:       9.987490445724654e-146\n",
      "先生 He:      0.0\n",
      "です He:      9.987490445724654e-146\n",
      "1 1 4 4\t0.9999999999999999\n",
      "2 1 4 4\t2.726758676922308e-182\n",
      "3 1 4 4\t0.0\n",
      "4 1 4 4\t8.486677277343791e-17\n",
      "1 2 4 4\t1.562853856593972e-144\n",
      "2 2 4 4\t0.2709482532495859\n",
      "3 2 4 4\t0.7290517467504142\n",
      "4 2 4 4\t0.0\n",
      "1 3 4 4\t0.0\n",
      "2 3 4 4\t0.0\n",
      "3 3 4 4\t0.0\n",
      "4 3 4 4\t1.0\n",
      "1 4 4 4\t1.562853856593972e-144\n",
      "2 4 4 4\t0.2709482532495859\n",
      "3 4 4 4\t0.7290517467504142\n",
      "4 4 4 4\t0.0\n",
      "I 僕:        0.5\n",
      "I は:        5e-324\n",
      "I 男:        0.0\n",
      "I です:       5e-324\n",
      "am 僕:       0.5\n",
      "am は:       2.186653463880263e-268\n",
      "am 男:       1.1764095858431331e-142\n",
      "am です:      2.186653463880263e-268\n",
      "a 僕:        0.0\n",
      "a は:        1.0\n",
      "a 男:        0.0\n",
      "a です:       1.0\n",
      "man 僕:      0.0\n",
      "man は:      0.0\n",
      "man 男:      1.0\n",
      "man です:     0.0\n",
      "I 私:        0.5\n",
      "I 女:        0.0\n",
      "am 私:       0.5\n",
      "am 女:       3.0063366426690426e-143\n",
      "a 私:        0.0\n",
      "a 女:        0.0\n",
      "girl 私:     0.0\n",
      "girl は:     0.0\n",
      "girl 女:     1.0\n",
      "girl です:    0.0\n",
      "I 先生:       0.0\n",
      "am 先生:      4.077397375773147e-151\n",
      "a 先生:       0.0\n",
      "teacher 私:  0.0\n",
      "teacher は:  0.0\n",
      "teacher 先生: 1.0\n",
      "teacher です: 0.0\n",
      "She 彼女:     0.5\n",
      "She は:      0.0\n",
      "She 先生:     0.0\n",
      "She です:     0.0\n",
      "is 彼女:      0.5\n",
      "is は:       9.711924461218662e-271\n",
      "is 先生:      2.6826433711997755e-144\n",
      "is です:      9.711924461218662e-271\n",
      "a 彼女:       0.0\n",
      "teacher 彼女: 0.0\n",
      "He 彼:       0.5\n",
      "He は:       0.0\n",
      "He 先生:      0.0\n",
      "He です:      0.0\n",
      "is 彼:       0.5\n",
      "a 彼:        0.0\n",
      "teacher 彼:  0.0\n",
      "1 1 4 4\t1.0\n",
      "2 1 4 4\t0.0\n",
      "3 1 4 4\t0.0\n",
      "4 1 4 4\t0.0\n",
      "1 2 4 4\t1.0\n",
      "2 2 4 4\t1.0981826941707409e-268\n",
      "3 2 4 4\t3.1150451269564456e-143\n",
      "4 2 4 4\t1.0981826941707409e-268\n",
      "1 3 4 4\t0.0\n",
      "2 3 4 4\t0.5\n",
      "3 3 4 4\t0.0\n",
      "4 3 4 4\t0.5\n",
      "1 4 4 4\t0.0\n",
      "2 4 4 4\t0.0\n",
      "3 4 4 4\t1.0\n",
      "4 4 4 4\t0.0\n",
      "{(1, 2), (3, 4), (4, 3), (1, 1), (2, 3)}\n",
      "     I am a teacher\n",
      "私    |x|x| | |\n",
      "は    | | |x| |\n",
      "先生   | | | |x|\n",
      "です   | | |x| |\n",
      "\n"
     ]
    }
   ],
   "source": [
    "syn = symmetrization(es, fs, corpus)\n",
    "pprint(syn)\n",
    "print(matrix(len(es), len(fs), syn, es, fs))"
   ]
  }
 ],
 "metadata": {
  "kernelspec": {
   "display_name": "Python 3",
   "language": "python",
   "name": "python3"
  },
  "language_info": {
   "codemirror_mode": {
    "name": "ipython",
    "version": 3
   },
   "file_extension": ".py",
   "mimetype": "text/x-python",
   "name": "python",
   "nbconvert_exporter": "python",
   "pygments_lexer": "ipython3",
   "version": "3.8.3"
  }
 },
 "nbformat": 4,
 "nbformat_minor": 4
}
